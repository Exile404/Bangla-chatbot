{
 "cells": [
  {
   "cell_type": "code",
   "execution_count": 19,
   "id": "initial_id",
   "metadata": {
    "collapsed": true,
    "ExecuteTime": {
     "end_time": "2023-12-10T10:57:06.017993600Z",
     "start_time": "2023-12-10T10:57:05.999978Z"
    }
   },
   "outputs": [],
   "source": [
    "import numpy as np\n",
    "import nltk\n",
    "#nltk.download('punkt')\n",
    "from bangla_stemmer.stemmer import stemmer\n",
    "import torch\n",
    "import torch.nn as nn\n",
    "from torch.utils.data import Dataset, DataLoader\n",
    "import numpy as np\n",
    "import random\n",
    "import json"
   ]
  },
  {
   "cell_type": "code",
   "execution_count": 20,
   "outputs": [],
   "source": [
    "stmr = stemmer.BanglaStemmer()"
   ],
   "metadata": {
    "collapsed": false,
    "ExecuteTime": {
     "end_time": "2023-12-10T10:57:06.683456600Z",
     "start_time": "2023-12-10T10:57:06.673449100Z"
    }
   },
   "id": "7145903ca2078d6c"
  },
  {
   "cell_type": "code",
   "execution_count": 21,
   "outputs": [],
   "source": [
    "def tokenize(sentence):\n",
    "    return nltk.word_tokenize(sentence)"
   ],
   "metadata": {
    "collapsed": false,
    "ExecuteTime": {
     "end_time": "2023-12-10T10:57:07.208883Z",
     "start_time": "2023-12-10T10:57:07.193370300Z"
    }
   },
   "id": "858ff50d8c2d9e4d"
  },
  {
   "cell_type": "code",
   "execution_count": 22,
   "outputs": [],
   "source": [
    "def stem(word):\n",
    "    return stmr.stem(word)"
   ],
   "metadata": {
    "collapsed": false,
    "ExecuteTime": {
     "end_time": "2023-12-10T10:57:08.493315800Z",
     "start_time": "2023-12-10T10:57:08.479802300Z"
    }
   },
   "id": "304647a9d3576e7e"
  },
  {
   "cell_type": "code",
   "execution_count": 23,
   "outputs": [],
   "source": [
    "def bag_of_words(tokenized_sentence, words):\n",
    "    \n",
    "    sentence_words = [stem(word) for word in tokenized_sentence]\n",
    "    bag = np.zeros(len(words), dtype=np.float32)\n",
    "    for idx, w in enumerate(words):\n",
    "        if w in sentence_words:\n",
    "            bag[idx] = 1\n",
    "\n",
    "    return bag"
   ],
   "metadata": {
    "collapsed": false,
    "ExecuteTime": {
     "end_time": "2023-12-10T10:57:10.934354Z",
     "start_time": "2023-12-10T10:57:10.920842100Z"
    }
   },
   "id": "80624afc4791ae34"
  },
  {
   "cell_type": "code",
   "execution_count": 24,
   "outputs": [],
   "source": [
    "class NeuralNet(nn.Module):\n",
    "    def __init__(self, input_size, hidden_size, num_classes):\n",
    "        super(NeuralNet, self).__init__()\n",
    "        self.l1 = nn.Linear(input_size, hidden_size)\n",
    "        self.l2 = nn.Linear(hidden_size, hidden_size)\n",
    "        self.l3 = nn.Linear(hidden_size, num_classes)\n",
    "        self.relu = nn.ReLU()\n",
    "\n",
    "    def forward(self, x):\n",
    "        out = self.l1(x)\n",
    "        out = self.relu(out)\n",
    "        out = self.l2(out)\n",
    "        out = self.relu(out)\n",
    "        out = self.l3(out)\n",
    "        # no activation and no softmax at the end\n",
    "        return out"
   ],
   "metadata": {
    "collapsed": false,
    "ExecuteTime": {
     "end_time": "2023-12-10T10:57:14.281195Z",
     "start_time": "2023-12-10T10:57:14.275690500Z"
    }
   },
   "id": "a723a6d31e5fb3c2"
  },
  {
   "cell_type": "code",
   "execution_count": 29,
   "outputs": [],
   "source": [
    "with open('intents.json', 'r', encoding='utf-8') as f:\n",
    "    intents = json.load(f)"
   ],
   "metadata": {
    "collapsed": false,
    "ExecuteTime": {
     "end_time": "2023-12-10T11:24:52.583885100Z",
     "start_time": "2023-12-10T11:24:52.572374700Z"
    }
   },
   "id": "90a370b4d76a1f10"
  },
  {
   "cell_type": "code",
   "execution_count": 30,
   "outputs": [],
   "source": [
    "all_words = []\n",
    "tags = []\n",
    "xy = []\n",
    "# loop through each sentence in our intents patterns\n",
    "for intent in intents['intents']:\n",
    "    tag = intent['tag']\n",
    "    # add to tag list\n",
    "    tags.append(tag)\n",
    "    for pattern in intent['patterns']:\n",
    "        # tokenize each word in the sentence\n",
    "        w = tokenize(pattern)\n",
    "        # add to our words list\n",
    "        all_words.extend(w)\n",
    "        # add to xy pair\n",
    "        xy.append((w, tag))"
   ],
   "metadata": {
    "collapsed": false,
    "ExecuteTime": {
     "end_time": "2023-12-10T11:24:53.884017900Z",
     "start_time": "2023-12-10T11:24:53.852992400Z"
    }
   },
   "id": "6ab448c9a026cb6c"
  },
  {
   "cell_type": "code",
   "execution_count": 35,
   "outputs": [],
   "source": [
    "# stem and lower each word\n",
    "ignore_words = ['?', '.', '!',',',';']\n",
    "# print(all_words)\n",
    "all_words = [stem(w) for w in all_words if w not in ignore_words]\n",
    "# remove duplicates and sort\n",
    "\n",
    "all_words = sorted(set(all_words))\n",
    "\n",
    "tags = sorted(set(tags))"
   ],
   "metadata": {
    "collapsed": false,
    "ExecuteTime": {
     "end_time": "2023-12-10T11:25:41.621841500Z",
     "start_time": "2023-12-10T11:25:41.583809Z"
    }
   },
   "id": "ea4c19557118438c"
  },
  {
   "cell_type": "code",
   "execution_count": 36,
   "outputs": [],
   "source": [
    "X_train = []\n",
    "y_train = []\n",
    "for (pattern_sentence, tag) in xy:\n",
    "    # X: bag of words for each pattern_sentence\n",
    "    bag = bag_of_words(pattern_sentence, all_words)\n",
    "    X_train.append(bag)\n",
    "    # y: PyTorch CrossEntropyLoss needs only class labels, not one-hot\n",
    "    label = tags.index(tag)\n",
    "    y_train.append(label)\n",
    "\n",
    "X_train = np.array(X_train)\n",
    "y_train = np.array(y_train)"
   ],
   "metadata": {
    "collapsed": false,
    "ExecuteTime": {
     "end_time": "2023-12-10T11:25:42.487300600Z",
     "start_time": "2023-12-10T11:25:42.327783500Z"
    }
   },
   "id": "f48cf24e03e0b0f4"
  },
  {
   "cell_type": "code",
   "execution_count": 42,
   "outputs": [
    {
     "name": "stdout",
     "output_type": "stream",
     "text": [
      "586 23\n"
     ]
    }
   ],
   "source": [
    "num_epochs = 20000\n",
    "batch_size = 16\n",
    "learning_rate = 0.00001\n",
    "input_size = len(X_train[0])\n",
    "hidden_size = 8\n",
    "output_size = len(tags)\n",
    "print(input_size, output_size)"
   ],
   "metadata": {
    "collapsed": false,
    "ExecuteTime": {
     "end_time": "2023-12-10T11:26:03.802712800Z",
     "start_time": "2023-12-10T11:26:03.797208400Z"
    }
   },
   "id": "9d95a11e24711764"
  },
  {
   "cell_type": "code",
   "execution_count": 43,
   "outputs": [],
   "source": [
    "class ChatDataset(Dataset):\n",
    "\n",
    "    def __init__(self):\n",
    "        self.n_samples = len(X_train)\n",
    "        self.x_data = X_train\n",
    "        self.y_data = y_train\n",
    "\n",
    "    # support indexing such that dataset[i] can be used to get i-th sample\n",
    "    def __getitem__(self, index):\n",
    "        return self.x_data[index], self.y_data[index]\n",
    "\n",
    "    # we can call len(dataset) to return the size\n",
    "    def __len__(self):\n",
    "        return self.n_samples"
   ],
   "metadata": {
    "collapsed": false,
    "ExecuteTime": {
     "end_time": "2023-12-10T11:26:04.192345200Z",
     "start_time": "2023-12-10T11:26:04.179835Z"
    }
   },
   "id": "5e625f9f7dfe7d94"
  },
  {
   "cell_type": "code",
   "execution_count": 44,
   "outputs": [],
   "source": [
    "dataset = ChatDataset()\n",
    "train_loader = DataLoader(dataset=dataset,\n",
    "                          batch_size=batch_size,\n",
    "                          shuffle=True,\n",
    "                          num_workers=0)\n",
    "\n",
    "device = torch.device('cuda' if torch.cuda.is_available() else 'cpu')\n",
    "\n",
    "model = NeuralNet(input_size, hidden_size, output_size).to(device)"
   ],
   "metadata": {
    "collapsed": false,
    "ExecuteTime": {
     "end_time": "2023-12-10T11:26:04.992866600Z",
     "start_time": "2023-12-10T11:26:04.972348500Z"
    }
   },
   "id": "4e1fc0c2942882e"
  },
  {
   "cell_type": "code",
   "execution_count": 45,
   "outputs": [
    {
     "data": {
      "text/plain": "device(type='cuda')"
     },
     "execution_count": 45,
     "metadata": {},
     "output_type": "execute_result"
    }
   ],
   "source": [
    "device"
   ],
   "metadata": {
    "collapsed": false,
    "ExecuteTime": {
     "end_time": "2023-12-10T11:26:05.610351400Z",
     "start_time": "2023-12-10T11:26:05.601344500Z"
    }
   },
   "id": "5cb5dfa99f4bc598"
  },
  {
   "cell_type": "code",
   "execution_count": 46,
   "outputs": [],
   "source": [
    "criterion = nn.CrossEntropyLoss()\n",
    "optimizer = torch.optim.Adam(model.parameters(), lr=learning_rate)"
   ],
   "metadata": {
    "collapsed": false,
    "ExecuteTime": {
     "end_time": "2023-12-10T11:26:06.273849500Z",
     "start_time": "2023-12-10T11:26:06.264841100Z"
    }
   },
   "id": "b082b0e3b0c47c9c"
  },
  {
   "cell_type": "code",
   "execution_count": 47,
   "outputs": [
    {
     "name": "stdout",
     "output_type": "stream",
     "text": [
      "Epoch [100/20000], Loss: 3.0264\n",
      "Epoch [200/20000], Loss: 3.3021\n",
      "Epoch [300/20000], Loss: 3.1044\n",
      "Epoch [400/20000], Loss: 3.0847\n",
      "Epoch [500/20000], Loss: 2.9205\n",
      "Epoch [600/20000], Loss: 3.0237\n",
      "Epoch [700/20000], Loss: 3.1708\n",
      "Epoch [800/20000], Loss: 2.8728\n",
      "Epoch [900/20000], Loss: 2.7850\n",
      "Epoch [1000/20000], Loss: 3.1091\n",
      "Epoch [1100/20000], Loss: 2.4873\n",
      "Epoch [1200/20000], Loss: 2.8971\n",
      "Epoch [1300/20000], Loss: 2.7263\n",
      "Epoch [1400/20000], Loss: 2.7670\n",
      "Epoch [1500/20000], Loss: 2.8535\n",
      "Epoch [1600/20000], Loss: 2.5491\n",
      "Epoch [1700/20000], Loss: 2.2537\n",
      "Epoch [1800/20000], Loss: 2.5765\n",
      "Epoch [1900/20000], Loss: 2.4451\n",
      "Epoch [2000/20000], Loss: 2.4603\n",
      "Epoch [2100/20000], Loss: 1.9308\n",
      "Epoch [2200/20000], Loss: 2.2915\n",
      "Epoch [2300/20000], Loss: 2.1365\n",
      "Epoch [2400/20000], Loss: 1.9447\n",
      "Epoch [2500/20000], Loss: 1.9519\n",
      "Epoch [2600/20000], Loss: 2.2253\n",
      "Epoch [2700/20000], Loss: 2.1563\n",
      "Epoch [2800/20000], Loss: 1.5669\n",
      "Epoch [2900/20000], Loss: 1.5799\n",
      "Epoch [3000/20000], Loss: 1.3299\n",
      "Epoch [3100/20000], Loss: 1.5244\n",
      "Epoch [3200/20000], Loss: 1.1116\n",
      "Epoch [3300/20000], Loss: 1.4923\n",
      "Epoch [3400/20000], Loss: 1.0740\n",
      "Epoch [3500/20000], Loss: 0.8638\n",
      "Epoch [3600/20000], Loss: 1.0830\n",
      "Epoch [3700/20000], Loss: 1.5526\n",
      "Epoch [3800/20000], Loss: 1.0755\n",
      "Epoch [3900/20000], Loss: 1.6129\n",
      "Epoch [4000/20000], Loss: 1.4066\n",
      "Epoch [4100/20000], Loss: 1.7055\n",
      "Epoch [4200/20000], Loss: 1.1763\n",
      "Epoch [4300/20000], Loss: 1.3286\n",
      "Epoch [4400/20000], Loss: 0.8550\n",
      "Epoch [4500/20000], Loss: 0.9425\n",
      "Epoch [4600/20000], Loss: 0.9688\n",
      "Epoch [4700/20000], Loss: 1.2242\n",
      "Epoch [4800/20000], Loss: 0.5578\n",
      "Epoch [4900/20000], Loss: 0.6752\n",
      "Epoch [5000/20000], Loss: 1.3080\n",
      "Epoch [5100/20000], Loss: 1.3172\n",
      "Epoch [5200/20000], Loss: 0.3341\n",
      "Epoch [5300/20000], Loss: 0.6775\n",
      "Epoch [5400/20000], Loss: 0.2405\n",
      "Epoch [5500/20000], Loss: 0.1263\n",
      "Epoch [5600/20000], Loss: 0.2857\n",
      "Epoch [5700/20000], Loss: 0.5059\n",
      "Epoch [5800/20000], Loss: 0.7384\n",
      "Epoch [5900/20000], Loss: 0.6681\n",
      "Epoch [6000/20000], Loss: 0.6618\n",
      "Epoch [6100/20000], Loss: 0.2567\n",
      "Epoch [6200/20000], Loss: 1.2972\n",
      "Epoch [6300/20000], Loss: 0.4487\n",
      "Epoch [6400/20000], Loss: 0.4130\n",
      "Epoch [6500/20000], Loss: 0.1944\n",
      "Epoch [6600/20000], Loss: 0.2344\n",
      "Epoch [6700/20000], Loss: 0.8498\n",
      "Epoch [6800/20000], Loss: 0.3258\n",
      "Epoch [6900/20000], Loss: 0.7251\n",
      "Epoch [7000/20000], Loss: 0.1707\n",
      "Epoch [7100/20000], Loss: 0.5113\n",
      "Epoch [7200/20000], Loss: 0.1727\n",
      "Epoch [7300/20000], Loss: 0.0543\n",
      "Epoch [7400/20000], Loss: 0.9335\n",
      "Epoch [7500/20000], Loss: 0.0379\n",
      "Epoch [7600/20000], Loss: 0.3494\n",
      "Epoch [7700/20000], Loss: 0.1083\n",
      "Epoch [7800/20000], Loss: 0.2074\n",
      "Epoch [7900/20000], Loss: 0.1300\n",
      "Epoch [8000/20000], Loss: 0.6666\n",
      "Epoch [8100/20000], Loss: 0.0556\n",
      "Epoch [8200/20000], Loss: 0.0678\n",
      "Epoch [8300/20000], Loss: 0.1512\n",
      "Epoch [8400/20000], Loss: 0.0922\n",
      "Epoch [8500/20000], Loss: 0.0715\n",
      "Epoch [8600/20000], Loss: 0.0270\n",
      "Epoch [8700/20000], Loss: 0.3807\n",
      "Epoch [8800/20000], Loss: 0.0134\n",
      "Epoch [8900/20000], Loss: 0.0076\n",
      "Epoch [9000/20000], Loss: 0.0987\n",
      "Epoch [9100/20000], Loss: 0.1712\n",
      "Epoch [9200/20000], Loss: 0.0151\n",
      "Epoch [9300/20000], Loss: 0.0184\n",
      "Epoch [9400/20000], Loss: 0.0078\n",
      "Epoch [9500/20000], Loss: 0.2786\n",
      "Epoch [9600/20000], Loss: 0.1871\n",
      "Epoch [9700/20000], Loss: 0.0045\n",
      "Epoch [9800/20000], Loss: 0.0539\n",
      "Epoch [9900/20000], Loss: 0.0079\n",
      "Epoch [10000/20000], Loss: 0.0118\n",
      "Epoch [10100/20000], Loss: 0.0033\n",
      "Epoch [10200/20000], Loss: 0.0024\n",
      "Epoch [10300/20000], Loss: 0.0480\n",
      "Epoch [10400/20000], Loss: 0.0850\n",
      "Epoch [10500/20000], Loss: 0.0042\n",
      "Epoch [10600/20000], Loss: 0.2366\n",
      "Epoch [10700/20000], Loss: 0.0211\n",
      "Epoch [10800/20000], Loss: 0.0011\n",
      "Epoch [10900/20000], Loss: 0.0065\n",
      "Epoch [11000/20000], Loss: 0.0039\n",
      "Epoch [11100/20000], Loss: 0.0065\n",
      "Epoch [11200/20000], Loss: 0.0608\n",
      "Epoch [11300/20000], Loss: 0.0085\n",
      "Epoch [11400/20000], Loss: 0.0098\n",
      "Epoch [11500/20000], Loss: 0.0963\n",
      "Epoch [11600/20000], Loss: 0.0093\n",
      "Epoch [11700/20000], Loss: 0.0020\n",
      "Epoch [11800/20000], Loss: 0.0026\n",
      "Epoch [11900/20000], Loss: 0.0023\n",
      "Epoch [12000/20000], Loss: 0.0043\n",
      "Epoch [12100/20000], Loss: 0.0064\n",
      "Epoch [12200/20000], Loss: 0.0439\n",
      "Epoch [12300/20000], Loss: 0.0049\n",
      "Epoch [12400/20000], Loss: 0.0208\n",
      "Epoch [12500/20000], Loss: 0.0052\n",
      "Epoch [12600/20000], Loss: 0.0004\n",
      "Epoch [12700/20000], Loss: 0.0001\n",
      "Epoch [12800/20000], Loss: 0.0078\n",
      "Epoch [12900/20000], Loss: 0.0005\n",
      "Epoch [13000/20000], Loss: 0.0090\n",
      "Epoch [13100/20000], Loss: 0.0076\n",
      "Epoch [13200/20000], Loss: 0.0007\n",
      "Epoch [13300/20000], Loss: 0.0091\n",
      "Epoch [13400/20000], Loss: 0.0230\n",
      "Epoch [13500/20000], Loss: 0.0002\n",
      "Epoch [13600/20000], Loss: 0.0002\n",
      "Epoch [13700/20000], Loss: 0.0052\n",
      "Epoch [13800/20000], Loss: 0.0007\n",
      "Epoch [13900/20000], Loss: 0.0031\n",
      "Epoch [14000/20000], Loss: 0.0008\n",
      "Epoch [14100/20000], Loss: 0.0001\n",
      "Epoch [14200/20000], Loss: 0.0000\n",
      "Epoch [14300/20000], Loss: 0.0023\n",
      "Epoch [14400/20000], Loss: 0.0000\n",
      "Epoch [14500/20000], Loss: 0.0039\n",
      "Epoch [14600/20000], Loss: 0.0000\n",
      "Epoch [14700/20000], Loss: 0.0007\n",
      "Epoch [14800/20000], Loss: 0.0000\n",
      "Epoch [14900/20000], Loss: 0.0003\n",
      "Epoch [15000/20000], Loss: 0.0009\n",
      "Epoch [15100/20000], Loss: 0.0000\n",
      "Epoch [15200/20000], Loss: 0.0010\n",
      "Epoch [15300/20000], Loss: 0.0001\n",
      "Epoch [15400/20000], Loss: 0.0005\n",
      "Epoch [15500/20000], Loss: 0.0000\n",
      "Epoch [15600/20000], Loss: 0.0001\n",
      "Epoch [15700/20000], Loss: 0.0004\n",
      "Epoch [15800/20000], Loss: 0.0062\n",
      "Epoch [15900/20000], Loss: 0.0007\n",
      "Epoch [16000/20000], Loss: 0.0003\n",
      "Epoch [16100/20000], Loss: 0.0056\n",
      "Epoch [16200/20000], Loss: 0.0000\n",
      "Epoch [16300/20000], Loss: 0.0001\n",
      "Epoch [16400/20000], Loss: 0.0000\n",
      "Epoch [16500/20000], Loss: 0.0000\n",
      "Epoch [16600/20000], Loss: 0.0003\n",
      "Epoch [16700/20000], Loss: 0.0011\n",
      "Epoch [16800/20000], Loss: 0.0003\n",
      "Epoch [16900/20000], Loss: 0.0000\n",
      "Epoch [17000/20000], Loss: 0.0000\n",
      "Epoch [17100/20000], Loss: 0.0000\n",
      "Epoch [17200/20000], Loss: 0.0000\n",
      "Epoch [17300/20000], Loss: 0.0002\n",
      "Epoch [17400/20000], Loss: 0.0001\n",
      "Epoch [17500/20000], Loss: 0.0000\n",
      "Epoch [17600/20000], Loss: 0.0000\n",
      "Epoch [17700/20000], Loss: 0.0001\n",
      "Epoch [17800/20000], Loss: 0.0000\n",
      "Epoch [17900/20000], Loss: 0.0000\n",
      "Epoch [18000/20000], Loss: 0.0000\n",
      "Epoch [18100/20000], Loss: 0.0000\n",
      "Epoch [18200/20000], Loss: 0.0000\n",
      "Epoch [18300/20000], Loss: 0.0000\n",
      "Epoch [18400/20000], Loss: 0.0000\n",
      "Epoch [18500/20000], Loss: 0.0000\n",
      "Epoch [18600/20000], Loss: 0.0000\n",
      "Epoch [18700/20000], Loss: 0.0003\n",
      "Epoch [18800/20000], Loss: 0.0000\n",
      "Epoch [18900/20000], Loss: 0.0000\n",
      "Epoch [19000/20000], Loss: 0.0000\n",
      "Epoch [19100/20000], Loss: 0.0002\n",
      "Epoch [19200/20000], Loss: 0.0000\n",
      "Epoch [19300/20000], Loss: 0.0000\n",
      "Epoch [19400/20000], Loss: 0.0000\n",
      "Epoch [19500/20000], Loss: 0.0000\n",
      "Epoch [19600/20000], Loss: 0.0000\n",
      "Epoch [19700/20000], Loss: 0.0000\n",
      "Epoch [19800/20000], Loss: 0.0000\n",
      "Epoch [19900/20000], Loss: 0.0000\n",
      "Epoch [20000/20000], Loss: 0.0000\n",
      "final loss: 0.0000\n",
      "Accuracy: 99.99952713983475\n"
     ]
    }
   ],
   "source": [
    "for epoch in range(num_epochs):\n",
    "    for (words, labels) in train_loader:\n",
    "        words = words.to(device)\n",
    "        labels = labels.to(dtype=torch.long).to(device)\n",
    "\n",
    "        # Forward pass\n",
    "        outputs = model(words)\n",
    "        # if y would be one-hot, we must apply\n",
    "        # labels = torch.max(labels, 1)[1]\n",
    "        loss = criterion(outputs, labels)\n",
    "\n",
    "        # Backward and optimize\n",
    "        optimizer.zero_grad()\n",
    "        loss.backward()\n",
    "        optimizer.step()\n",
    "\n",
    "    if (epoch + 1) % 100 == 0:\n",
    "        print(f'Epoch [{epoch + 1}/{num_epochs}], Loss: {loss.item():.4f}')\n",
    "\n",
    "print(f'final loss: {loss.item():.4f}')\n",
    "print(f'Accuracy: {100.00-loss.item()*100}')"
   ],
   "metadata": {
    "collapsed": false,
    "ExecuteTime": {
     "end_time": "2023-12-10T11:37:06.022048400Z",
     "start_time": "2023-12-10T11:26:06.864027800Z"
    }
   },
   "id": "d173a56730255e66"
  },
  {
   "cell_type": "code",
   "execution_count": 46,
   "outputs": [],
   "source": [
    "model_parameters = model.state_dict()"
   ],
   "metadata": {
    "collapsed": false,
    "ExecuteTime": {
     "end_time": "2023-12-10T06:37:12.445768800Z",
     "start_time": "2023-12-10T06:37:12.426902700Z"
    }
   },
   "id": "253ac61efdd241e7"
  },
  {
   "cell_type": "code",
   "execution_count": 58,
   "outputs": [
    {
     "data": {
      "text/plain": "NeuralNet(\n  (l1): Linear(in_features=317, out_features=8, bias=True)\n  (l2): Linear(in_features=8, out_features=8, bias=True)\n  (l3): Linear(in_features=8, out_features=13, bias=True)\n  (relu): ReLU()\n)"
     },
     "execution_count": 58,
     "metadata": {},
     "output_type": "execute_result"
    }
   ],
   "source": [
    "model.eval()"
   ],
   "metadata": {
    "collapsed": false,
    "ExecuteTime": {
     "end_time": "2023-12-10T06:43:04.792804500Z",
     "start_time": "2023-12-10T06:43:04.777291600Z"
    }
   },
   "id": "88c0e740a8a52c76"
  },
  {
   "cell_type": "code",
   "execution_count": 45,
   "outputs": [
    {
     "name": "stdout",
     "output_type": "stream",
     "text": [
      "training complete. file saved to data.pth\n"
     ]
    }
   ],
   "source": [
    "data = {\n",
    "    \"model_state\": model.state_dict(),\n",
    "    \"input_size\": input_size,\n",
    "    \"hidden_size\": hidden_size,\n",
    "    \"output_size\": output_size,\n",
    "    \"all_words\": all_words,\n",
    "    \"tags\": tags\n",
    "}\n",
    "\n",
    "FILE = \"data.pth\"\n",
    "torch.save(data, FILE)\n",
    "\n",
    "print(f'training complete. file saved to {FILE}')"
   ],
   "metadata": {
    "collapsed": false,
    "ExecuteTime": {
     "end_time": "2023-12-10T06:37:07.154313400Z",
     "start_time": "2023-12-10T06:37:07.140300900Z"
    }
   },
   "id": "3238331a83810d2a"
  }
 ],
 "metadata": {
  "kernelspec": {
   "display_name": "Python 3",
   "language": "python",
   "name": "python3"
  },
  "language_info": {
   "codemirror_mode": {
    "name": "ipython",
    "version": 2
   },
   "file_extension": ".py",
   "mimetype": "text/x-python",
   "name": "python",
   "nbconvert_exporter": "python",
   "pygments_lexer": "ipython2",
   "version": "2.7.6"
  }
 },
 "nbformat": 4,
 "nbformat_minor": 5
}
