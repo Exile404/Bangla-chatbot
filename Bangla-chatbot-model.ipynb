{
 "cells": [
  {
   "cell_type": "code",
   "execution_count": 1,
   "id": "initial_id",
   "metadata": {
    "collapsed": true,
    "ExecuteTime": {
     "end_time": "2023-12-10T06:23:20.269870100Z",
     "start_time": "2023-12-10T06:23:18.629325Z"
    }
   },
   "outputs": [],
   "source": [
    "import numpy as np\n",
    "import nltk\n",
    "#nltk.download('punkt')\n",
    "from bangla_stemmer.stemmer import stemmer\n",
    "import torch\n",
    "import torch.nn as nn\n",
    "from torch.utils.data import Dataset, DataLoader\n",
    "import numpy as np\n",
    "import random\n",
    "import json"
   ]
  },
  {
   "cell_type": "code",
   "execution_count": 2,
   "outputs": [],
   "source": [
    "stmr = stemmer.BanglaStemmer()"
   ],
   "metadata": {
    "collapsed": false,
    "ExecuteTime": {
     "end_time": "2023-12-10T06:23:23.147967100Z",
     "start_time": "2023-12-10T06:23:23.122444900Z"
    }
   },
   "id": "7145903ca2078d6c"
  },
  {
   "cell_type": "code",
   "execution_count": 3,
   "outputs": [],
   "source": [
    "def tokenize(sentence):\n",
    "    return nltk.word_tokenize(sentence)"
   ],
   "metadata": {
    "collapsed": false,
    "ExecuteTime": {
     "end_time": "2023-12-10T06:23:24.208462500Z",
     "start_time": "2023-12-10T06:23:24.200455900Z"
    }
   },
   "id": "858ff50d8c2d9e4d"
  },
  {
   "cell_type": "code",
   "execution_count": 4,
   "outputs": [],
   "source": [
    "def stem(word):\n",
    "    return stmr.stem(word)"
   ],
   "metadata": {
    "collapsed": false,
    "ExecuteTime": {
     "end_time": "2023-12-10T06:23:24.720930300Z",
     "start_time": "2023-12-10T06:23:24.703413900Z"
    }
   },
   "id": "304647a9d3576e7e"
  },
  {
   "cell_type": "code",
   "execution_count": 5,
   "outputs": [],
   "source": [
    "def bag_of_words(tokenized_sentence, words):\n",
    "    \n",
    "    sentence_words = [stem(word) for word in tokenized_sentence]\n",
    "    bag = np.zeros(len(words), dtype=np.float32)\n",
    "    for idx, w in enumerate(words):\n",
    "        if w in sentence_words:\n",
    "            bag[idx] = 1\n",
    "\n",
    "    return bag"
   ],
   "metadata": {
    "collapsed": false,
    "ExecuteTime": {
     "end_time": "2023-12-10T06:23:25.281585400Z",
     "start_time": "2023-12-10T06:23:25.266572900Z"
    }
   },
   "id": "80624afc4791ae34"
  },
  {
   "cell_type": "code",
   "execution_count": 6,
   "outputs": [],
   "source": [
    "class NeuralNet(nn.Module):\n",
    "    def __init__(self, input_size, hidden_size, num_classes):\n",
    "        super(NeuralNet, self).__init__()\n",
    "        self.l1 = nn.Linear(input_size, hidden_size)\n",
    "        self.l2 = nn.Linear(hidden_size, hidden_size)\n",
    "        self.l3 = nn.Linear(hidden_size, num_classes)\n",
    "        self.relu = nn.ReLU()\n",
    "\n",
    "    def forward(self, x):\n",
    "        out = self.l1(x)\n",
    "        out = self.relu(out)\n",
    "        out = self.l2(out)\n",
    "        out = self.relu(out)\n",
    "        out = self.l3(out)\n",
    "        # no activation and no softmax at the end\n",
    "        return out"
   ],
   "metadata": {
    "collapsed": false,
    "ExecuteTime": {
     "end_time": "2023-12-10T06:23:26.437389200Z",
     "start_time": "2023-12-10T06:23:26.432385200Z"
    }
   },
   "id": "a723a6d31e5fb3c2"
  },
  {
   "cell_type": "code",
   "execution_count": 7,
   "outputs": [],
   "source": [
    "with open('intents.json', 'r', encoding='utf-8') as f:\n",
    "    intents = json.load(f)"
   ],
   "metadata": {
    "collapsed": false,
    "ExecuteTime": {
     "end_time": "2023-12-10T06:23:28.291371800Z",
     "start_time": "2023-12-10T06:23:28.274357100Z"
    }
   },
   "id": "90a370b4d76a1f10"
  },
  {
   "cell_type": "code",
   "execution_count": 8,
   "outputs": [],
   "source": [
    "all_words = []\n",
    "tags = []\n",
    "xy = []\n",
    "# loop through each sentence in our intents patterns\n",
    "for intent in intents['intents']:\n",
    "    tag = intent['tag']\n",
    "    # add to tag list\n",
    "    tags.append(tag)\n",
    "    for pattern in intent['patterns']:\n",
    "        # tokenize each word in the sentence\n",
    "        w = tokenize(pattern)\n",
    "        # add to our words list\n",
    "        all_words.extend(w)\n",
    "        # add to xy pair\n",
    "        xy.append((w, tag))"
   ],
   "metadata": {
    "collapsed": false,
    "ExecuteTime": {
     "end_time": "2023-12-10T06:23:29.563679300Z",
     "start_time": "2023-12-10T06:23:29.532652100Z"
    }
   },
   "id": "6ab448c9a026cb6c"
  },
  {
   "cell_type": "code",
   "execution_count": 9,
   "outputs": [],
   "source": [
    "# stem and lower each word\n",
    "ignore_words = ['?', '.', '!',',',';']\n",
    "# print(all_words)\n",
    "all_words = [stem(w) for w in all_words if w not in ignore_words]\n",
    "# remove duplicates and sort\n",
    "\n",
    "all_words = sorted(set(all_words))\n",
    "\n",
    "tags = sorted(set(tags))"
   ],
   "metadata": {
    "collapsed": false,
    "ExecuteTime": {
     "end_time": "2023-12-10T06:23:31.107435400Z",
     "start_time": "2023-12-10T06:23:31.036374500Z"
    }
   },
   "id": "ea4c19557118438c"
  },
  {
   "cell_type": "code",
   "execution_count": 10,
   "outputs": [],
   "source": [
    "X_train = []\n",
    "y_train = []\n",
    "for (pattern_sentence, tag) in xy:\n",
    "    # X: bag of words for each pattern_sentence\n",
    "    bag = bag_of_words(pattern_sentence, all_words)\n",
    "    X_train.append(bag)\n",
    "    # y: PyTorch CrossEntropyLoss needs only class labels, not one-hot\n",
    "    label = tags.index(tag)\n",
    "    y_train.append(label)\n",
    "\n",
    "X_train = np.array(X_train)\n",
    "y_train = np.array(y_train)"
   ],
   "metadata": {
    "collapsed": false,
    "ExecuteTime": {
     "end_time": "2023-12-10T06:23:31.910022900Z",
     "start_time": "2023-12-10T06:23:31.833776400Z"
    }
   },
   "id": "f48cf24e03e0b0f4"
  },
  {
   "cell_type": "code",
   "execution_count": 37,
   "outputs": [
    {
     "name": "stdout",
     "output_type": "stream",
     "text": [
      "317 13\n"
     ]
    }
   ],
   "source": [
    "num_epochs = 10000\n",
    "batch_size = 16\n",
    "learning_rate = 0.00001\n",
    "input_size = len(X_train[0])\n",
    "hidden_size = 8\n",
    "output_size = len(tags)\n",
    "print(input_size, output_size)"
   ],
   "metadata": {
    "collapsed": false,
    "ExecuteTime": {
     "end_time": "2023-12-10T06:29:48.179390900Z",
     "start_time": "2023-12-10T06:29:48.174386700Z"
    }
   },
   "id": "9d95a11e24711764"
  },
  {
   "cell_type": "code",
   "execution_count": 38,
   "outputs": [],
   "source": [
    "class ChatDataset(Dataset):\n",
    "\n",
    "    def __init__(self):\n",
    "        self.n_samples = len(X_train)\n",
    "        self.x_data = X_train\n",
    "        self.y_data = y_train\n",
    "\n",
    "    # support indexing such that dataset[i] can be used to get i-th sample\n",
    "    def __getitem__(self, index):\n",
    "        return self.x_data[index], self.y_data[index]\n",
    "\n",
    "    # we can call len(dataset) to return the size\n",
    "    def __len__(self):\n",
    "        return self.n_samples"
   ],
   "metadata": {
    "collapsed": false,
    "ExecuteTime": {
     "end_time": "2023-12-10T06:29:48.846870500Z",
     "start_time": "2023-12-10T06:29:48.824351600Z"
    }
   },
   "id": "5e625f9f7dfe7d94"
  },
  {
   "cell_type": "code",
   "execution_count": 39,
   "outputs": [],
   "source": [
    "dataset = ChatDataset()\n",
    "train_loader = DataLoader(dataset=dataset,\n",
    "                          batch_size=batch_size,\n",
    "                          shuffle=True,\n",
    "                          num_workers=0)\n",
    "\n",
    "device = torch.device('cuda' if torch.cuda.is_available() else 'cpu')\n",
    "\n",
    "model = NeuralNet(input_size, hidden_size, output_size).to(device)"
   ],
   "metadata": {
    "collapsed": false,
    "ExecuteTime": {
     "end_time": "2023-12-10T06:29:50.772108600Z",
     "start_time": "2023-12-10T06:29:50.765102400Z"
    }
   },
   "id": "4e1fc0c2942882e"
  },
  {
   "cell_type": "code",
   "execution_count": 40,
   "outputs": [
    {
     "data": {
      "text/plain": "device(type='cuda')"
     },
     "execution_count": 40,
     "metadata": {},
     "output_type": "execute_result"
    }
   ],
   "source": [
    "device"
   ],
   "metadata": {
    "collapsed": false,
    "ExecuteTime": {
     "end_time": "2023-12-10T06:29:51.498203600Z",
     "start_time": "2023-12-10T06:29:51.492198500Z"
    }
   },
   "id": "5cb5dfa99f4bc598"
  },
  {
   "cell_type": "code",
   "execution_count": 41,
   "outputs": [],
   "source": [
    "criterion = nn.CrossEntropyLoss()\n",
    "optimizer = torch.optim.Adam(model.parameters(), lr=learning_rate)"
   ],
   "metadata": {
    "collapsed": false,
    "ExecuteTime": {
     "end_time": "2023-12-10T06:29:52.318671500Z",
     "start_time": "2023-12-10T06:29:52.312666500Z"
    }
   },
   "id": "b082b0e3b0c47c9c"
  },
  {
   "cell_type": "code",
   "execution_count": 43,
   "outputs": [
    {
     "name": "stdout",
     "output_type": "stream",
     "text": [
      "Epoch [100/10000], Loss: 1.3108\n",
      "Epoch [200/10000], Loss: 0.1727\n",
      "Epoch [300/10000], Loss: 0.0872\n",
      "Epoch [400/10000], Loss: 0.2825\n",
      "Epoch [500/10000], Loss: 0.9183\n",
      "Epoch [600/10000], Loss: 0.1734\n",
      "Epoch [700/10000], Loss: 0.2486\n",
      "Epoch [800/10000], Loss: 1.0138\n",
      "Epoch [900/10000], Loss: 0.0518\n",
      "Epoch [1000/10000], Loss: 0.0863\n",
      "Epoch [1100/10000], Loss: 0.2748\n",
      "Epoch [1200/10000], Loss: 0.1954\n",
      "Epoch [1300/10000], Loss: 0.2666\n",
      "Epoch [1400/10000], Loss: 1.1055\n",
      "Epoch [1500/10000], Loss: 0.1616\n",
      "Epoch [1600/10000], Loss: 0.2321\n",
      "Epoch [1700/10000], Loss: 0.1964\n",
      "Epoch [1800/10000], Loss: 0.0099\n",
      "Epoch [1900/10000], Loss: 0.0586\n",
      "Epoch [2000/10000], Loss: 0.0833\n",
      "Epoch [2100/10000], Loss: 0.5454\n",
      "Epoch [2200/10000], Loss: 0.5909\n",
      "Epoch [2300/10000], Loss: 0.1243\n",
      "Epoch [2400/10000], Loss: 0.0344\n",
      "Epoch [2500/10000], Loss: 0.0400\n",
      "Epoch [2600/10000], Loss: 0.1425\n",
      "Epoch [2700/10000], Loss: 0.0226\n",
      "Epoch [2800/10000], Loss: 0.0497\n",
      "Epoch [2900/10000], Loss: 0.1419\n",
      "Epoch [3000/10000], Loss: 0.0937\n",
      "Epoch [3100/10000], Loss: 0.4504\n",
      "Epoch [3200/10000], Loss: 0.2258\n",
      "Epoch [3300/10000], Loss: 0.0566\n",
      "Epoch [3400/10000], Loss: 0.0384\n",
      "Epoch [3500/10000], Loss: 0.4154\n",
      "Epoch [3600/10000], Loss: 0.0116\n",
      "Epoch [3700/10000], Loss: 0.0522\n",
      "Epoch [3800/10000], Loss: 0.0934\n",
      "Epoch [3900/10000], Loss: 0.0007\n",
      "Epoch [4000/10000], Loss: 0.0019\n",
      "Epoch [4100/10000], Loss: 0.0302\n",
      "Epoch [4200/10000], Loss: 0.1459\n",
      "Epoch [4300/10000], Loss: 0.0023\n",
      "Epoch [4400/10000], Loss: 0.0142\n",
      "Epoch [4500/10000], Loss: 0.0278\n",
      "Epoch [4600/10000], Loss: 0.0052\n",
      "Epoch [4700/10000], Loss: 0.1505\n",
      "Epoch [4800/10000], Loss: 0.0021\n",
      "Epoch [4900/10000], Loss: 0.0329\n",
      "Epoch [5000/10000], Loss: 0.3243\n",
      "Epoch [5100/10000], Loss: 0.0009\n",
      "Epoch [5200/10000], Loss: 0.0077\n",
      "Epoch [5300/10000], Loss: 0.0243\n",
      "Epoch [5400/10000], Loss: 0.1078\n",
      "Epoch [5500/10000], Loss: 0.0403\n",
      "Epoch [5600/10000], Loss: 0.0001\n",
      "Epoch [5700/10000], Loss: 0.2215\n",
      "Epoch [5800/10000], Loss: 0.0177\n",
      "Epoch [5900/10000], Loss: 0.0001\n",
      "Epoch [6000/10000], Loss: 0.0053\n",
      "Epoch [6100/10000], Loss: 0.0515\n",
      "Epoch [6200/10000], Loss: 0.0020\n",
      "Epoch [6300/10000], Loss: 0.0765\n",
      "Epoch [6400/10000], Loss: 0.0278\n",
      "Epoch [6500/10000], Loss: 0.2541\n",
      "Epoch [6600/10000], Loss: 0.2190\n",
      "Epoch [6700/10000], Loss: 0.0019\n",
      "Epoch [6800/10000], Loss: 0.1181\n",
      "Epoch [6900/10000], Loss: 0.0303\n",
      "Epoch [7000/10000], Loss: 0.0097\n",
      "Epoch [7100/10000], Loss: 0.2476\n",
      "Epoch [7200/10000], Loss: 0.0187\n",
      "Epoch [7300/10000], Loss: 0.0000\n",
      "Epoch [7400/10000], Loss: 0.0004\n",
      "Epoch [7500/10000], Loss: 0.0120\n",
      "Epoch [7600/10000], Loss: 0.0078\n",
      "Epoch [7700/10000], Loss: 0.0005\n",
      "Epoch [7800/10000], Loss: 0.0032\n",
      "Epoch [7900/10000], Loss: 0.0015\n",
      "Epoch [8000/10000], Loss: 0.0003\n",
      "Epoch [8100/10000], Loss: 0.0112\n",
      "Epoch [8200/10000], Loss: 0.0042\n",
      "Epoch [8300/10000], Loss: 0.0002\n",
      "Epoch [8400/10000], Loss: 0.0095\n",
      "Epoch [8500/10000], Loss: 0.0008\n",
      "Epoch [8600/10000], Loss: 0.0026\n",
      "Epoch [8700/10000], Loss: 0.0000\n",
      "Epoch [8800/10000], Loss: 0.0002\n",
      "Epoch [8900/10000], Loss: 0.0029\n",
      "Epoch [9000/10000], Loss: 0.0041\n",
      "Epoch [9100/10000], Loss: 0.1088\n",
      "Epoch [9200/10000], Loss: 0.1162\n",
      "Epoch [9300/10000], Loss: 0.0262\n",
      "Epoch [9400/10000], Loss: 0.0210\n",
      "Epoch [9500/10000], Loss: 0.0050\n",
      "Epoch [9600/10000], Loss: 0.0001\n",
      "Epoch [9700/10000], Loss: 0.0110\n",
      "Epoch [9800/10000], Loss: 0.0000\n",
      "Epoch [9900/10000], Loss: 0.0000\n",
      "Epoch [10000/10000], Loss: 0.0057\n",
      "final loss: 0.0057\n",
      "Accuracy: 99.43238412961364\n"
     ]
    }
   ],
   "source": [
    "for epoch in range(num_epochs):\n",
    "    for (words, labels) in train_loader:\n",
    "        words = words.to(device)\n",
    "        labels = labels.to(dtype=torch.long).to(device)\n",
    "\n",
    "        # Forward pass\n",
    "        outputs = model(words)\n",
    "        # if y would be one-hot, we must apply\n",
    "        # labels = torch.max(labels, 1)[1]\n",
    "        loss = criterion(outputs, labels)\n",
    "\n",
    "        # Backward and optimize\n",
    "        optimizer.zero_grad()\n",
    "        loss.backward()\n",
    "        optimizer.step()\n",
    "\n",
    "    if (epoch + 1) % 100 == 0:\n",
    "        print(f'Epoch [{epoch + 1}/{num_epochs}], Loss: {loss.item():.4f}')\n",
    "\n",
    "print(f'final loss: {loss.item():.4f}')\n",
    "print(f'Accuracy: {100.00-loss.item()*100}')"
   ],
   "metadata": {
    "collapsed": false,
    "ExecuteTime": {
     "end_time": "2023-12-10T06:35:41.808096500Z",
     "start_time": "2023-12-10T06:32:51.625797Z"
    }
   },
   "id": "d173a56730255e66"
  },
  {
   "cell_type": "code",
   "execution_count": 46,
   "outputs": [],
   "source": [
    "model_parameters = model.state_dict()"
   ],
   "metadata": {
    "collapsed": false,
    "ExecuteTime": {
     "end_time": "2023-12-10T06:37:12.445768800Z",
     "start_time": "2023-12-10T06:37:12.426902700Z"
    }
   },
   "id": "253ac61efdd241e7"
  },
  {
   "cell_type": "code",
   "execution_count": 58,
   "outputs": [
    {
     "data": {
      "text/plain": "NeuralNet(\n  (l1): Linear(in_features=317, out_features=8, bias=True)\n  (l2): Linear(in_features=8, out_features=8, bias=True)\n  (l3): Linear(in_features=8, out_features=13, bias=True)\n  (relu): ReLU()\n)"
     },
     "execution_count": 58,
     "metadata": {},
     "output_type": "execute_result"
    }
   ],
   "source": [
    "model.eval()"
   ],
   "metadata": {
    "collapsed": false,
    "ExecuteTime": {
     "end_time": "2023-12-10T06:43:04.792804500Z",
     "start_time": "2023-12-10T06:43:04.777291600Z"
    }
   },
   "id": "88c0e740a8a52c76"
  },
  {
   "cell_type": "code",
   "execution_count": 45,
   "outputs": [
    {
     "name": "stdout",
     "output_type": "stream",
     "text": [
      "training complete. file saved to data.pth\n"
     ]
    }
   ],
   "source": [
    "data = {\n",
    "    \"model_state\": model.state_dict(),\n",
    "    \"input_size\": input_size,\n",
    "    \"hidden_size\": hidden_size,\n",
    "    \"output_size\": output_size,\n",
    "    \"all_words\": all_words,\n",
    "    \"tags\": tags\n",
    "}\n",
    "\n",
    "FILE = \"data.pth\"\n",
    "torch.save(data, FILE)\n",
    "\n",
    "print(f'training complete. file saved to {FILE}')"
   ],
   "metadata": {
    "collapsed": false,
    "ExecuteTime": {
     "end_time": "2023-12-10T06:37:07.154313400Z",
     "start_time": "2023-12-10T06:37:07.140300900Z"
    }
   },
   "id": "3238331a83810d2a"
  }
 ],
 "metadata": {
  "kernelspec": {
   "display_name": "Python 3",
   "language": "python",
   "name": "python3"
  },
  "language_info": {
   "codemirror_mode": {
    "name": "ipython",
    "version": 2
   },
   "file_extension": ".py",
   "mimetype": "text/x-python",
   "name": "python",
   "nbconvert_exporter": "python",
   "pygments_lexer": "ipython2",
   "version": "2.7.6"
  }
 },
 "nbformat": 4,
 "nbformat_minor": 5
}
